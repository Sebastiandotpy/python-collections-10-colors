{
 "cells": [
  {
   "cell_type": "code",
   "execution_count": 4,
   "metadata": {},
   "outputs": [
    {
     "name": "stdout",
     "output_type": "stream",
     "text": [
      "{'red': '#FF0000', 'green': '#00FF00', 'blue': '#0000FF'}\n"
     ]
    }
   ],
   "source": [
    "def combine_lists_to_dict(names, values):\n",
    "    \"\"\"\n",
    "    Combine two lists into a dictionary.\n",
    "\n",
    "    Args:\n",
    "    names (list): A list of keys for the dictionary.\n",
    "    values (list): A list of values for the dictionary.\n",
    "\n",
    "    Returns:\n",
    "    dict: A dictionary where keys are from the names list and values are from the values list.\n",
    "    \"\"\"\n",
    "\n",
    "    \n",
    "    combined_dict = {}\n",
    "\n",
    "    # Loop through each name-value pair and add it to the dictionary\n",
    "    for name, value in zip(names, values):\n",
    "        combined_dict[name] = value\n",
    "\n",
    "    return combined_dict\n",
    "\n",
    "\n",
    "color_names = ['red', 'green', 'blue']\n",
    "color_hex = ['#FF0000','#00FF00', '#0000FF']\n",
    "colors = combine_lists_to_dict(color_names, color_hex)\n",
    "print(colors)\n",
    "\n",
    "\n"
   ]
  },
  {
   "cell_type": "code",
   "execution_count": 7,
   "metadata": {},
   "outputs": [
    {
     "name": "stdout",
     "output_type": "stream",
     "text": [
      "{'red': '#FF0000', 'green': '#00FF00', 'blue': '#0000FF'}\n"
     ]
    }
   ],
   "source": [
    "color_names = ['red', 'green', 'blue']\n",
    "color_hex = ['#FF0000','#00FF00', '#0000FF']\n",
    "\n",
    "colors = {}\n",
    " # Loop through each name-value pair and add it to the dictionary\n",
    "for name, hex_val in zip(color_names, color_hex):\n",
    "    colors[name] = hex_val\n",
    "\n",
    "print(colors)\n"
   ]
  }
 ],
 "metadata": {
  "kernelspec": {
   "display_name": "Python 3",
   "language": "python",
   "name": "python3"
  },
  "language_info": {
   "codemirror_mode": {
    "name": "ipython",
    "version": 3
   },
   "file_extension": ".py",
   "mimetype": "text/x-python",
   "name": "python",
   "nbconvert_exporter": "python",
   "pygments_lexer": "ipython3",
   "version": "3.11.3"
  },
  "orig_nbformat": 4
 },
 "nbformat": 4,
 "nbformat_minor": 2
}
